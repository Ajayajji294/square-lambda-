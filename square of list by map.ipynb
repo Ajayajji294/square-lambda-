{
 "cells": [
  {
   "cell_type": "code",
   "execution_count": 3,
   "id": "fa02254e",
   "metadata": {},
   "outputs": [
    {
     "name": "stdout",
     "output_type": "stream",
     "text": [
      "given list [4, 5, 2, 9]\n",
      "square_list [16, 25, 4, 81]\n"
     ]
    }
   ],
   "source": [
    "def square_of_list(x):\n",
    "    return x**2\n",
    "l2=[4,5,2,9]\n",
    "print(\"given list\",l2)\n",
    "square= map(square_of_list,l2)\n",
    "print(\"square_list\",list(square))"
   ]
  },
  {
   "cell_type": "code",
   "execution_count": null,
   "id": "671f0533",
   "metadata": {},
   "outputs": [],
   "source": []
  }
 ],
 "metadata": {
  "kernelspec": {
   "display_name": "Python 3",
   "language": "python",
   "name": "python3"
  },
  "language_info": {
   "codemirror_mode": {
    "name": "ipython",
    "version": 3
   },
   "file_extension": ".py",
   "mimetype": "text/x-python",
   "name": "python",
   "nbconvert_exporter": "python",
   "pygments_lexer": "ipython3",
   "version": "3.8.8"
  }
 },
 "nbformat": 4,
 "nbformat_minor": 5
}
